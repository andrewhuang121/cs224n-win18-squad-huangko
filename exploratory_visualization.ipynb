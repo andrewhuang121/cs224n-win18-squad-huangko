{
 "cells": [
  {
   "cell_type": "markdown",
   "metadata": {},
   "source": [
    "# SQuAD Exploratory Data Analysis"
   ]
  },
  {
   "cell_type": "code",
   "execution_count": 107,
   "metadata": {
    "collapsed": true
   },
   "outputs": [],
   "source": [
    "import numpy as np\n",
    "import pandas as pd\n",
    "import matplotlib.pyplot as plt\n",
    "import seaborn as sns\n",
    "import os\n",
    "import random\n",
    "%matplotlib inline\n",
    "\n",
    "data_dir = \"./data/\"\n",
    "\n",
    "train_context_path = os.path.join(data_dir, \"train.context\")\n",
    "train_qn_path = os.path.join(data_dir, \"train.question\")\n",
    "train_ans_path = os.path.join(data_dir, \"train.span\")\n",
    "dev_context_path = os.path.join(data_dir, \"dev.context\")\n",
    "dev_qn_path = os.path.join(data_dir, \"dev.question\")\n",
    "dev_ans_path = os.path.join(data_dir, \"dev.span\")"
   ]
  },
  {
   "cell_type": "markdown",
   "metadata": {},
   "source": [
    "## Import Data"
   ]
  },
  {
   "cell_type": "code",
   "execution_count": 103,
   "metadata": {},
   "outputs": [
    {
     "name": "stderr",
     "output_type": "stream",
     "text": [
      "b'Skipping line 12994: expected 1 fields, saw 2\\nSkipping line 15424: expected 1 fields, saw 2\\nSkipping line 26510: expected 1 fields, saw 2\\nSkipping line 37850: expected 1 fields, saw 2\\nSkipping line 53010: expected 1 fields, saw 2\\nSkipping line 54838: expected 1 fields, saw 2\\nSkipping line 55332: expected 1 fields, saw 2\\nSkipping line 63999: expected 1 fields, saw 2\\nSkipping line 73597: expected 1 fields, saw 2\\nSkipping line 74265: expected 1 fields, saw 2\\nSkipping line 76603: expected 1 fields, saw 2\\nSkipping line 77090: expected 1 fields, saw 2\\nSkipping line 78049: expected 1 fields, saw 2\\nSkipping line 80468: expected 1 fields, saw 2\\nSkipping line 82129: expected 1 fields, saw 2\\nSkipping line 83326: expected 1 fields, saw 2\\n'\n"
     ]
    }
   ],
   "source": [
    "train_context = pd.read_csv(train_context_path, sep=\"\\n\", header=None, error_bad_lines=False)\n",
    "train_qn = pd.read_csv(train_qn_path, sep=\"\\n\", header=None, error_bad_lines=False)\n",
    "train_ans = pd.read_csv(train_ans_path, sep=\"\\n\", header=None, error_bad_lines=False)\n",
    "\n",
    "train = pd.DataFrame({\n",
    "    \"context\": train_context[0],\n",
    "    \"qn\": train_qn[0],\n",
    "    \"ans\": train_ans[0]\n",
    "})\n",
    "\n",
    "train = train.dropna()"
   ]
  },
  {
   "cell_type": "code",
   "execution_count": 100,
   "metadata": {},
   "outputs": [],
   "source": [
    "dev_context = pd.read_csv(dev_context_path, sep=\"\\n\", header=None, error_bad_lines=False)\n",
    "dev_qn = pd.read_csv(dev_qn_path, sep=\"\\n\", header=None, error_bad_lines=False)\n",
    "dev_ans = pd.read_csv(dev_ans_path, sep=\"\\n\", header=None, error_bad_lines=False)\n",
    "\n",
    "dev = pd.DataFrame({\n",
    "    \"context\": dev_context[0],\n",
    "    \"qn\": dev_qn[0],\n",
    "    \"ans\": dev_ans[0]\n",
    "})"
   ]
  },
  {
   "cell_type": "code",
   "execution_count": 111,
   "metadata": {
    "collapsed": true
   },
   "outputs": [],
   "source": [
    "data = pd.concat([train, dev])"
   ]
  },
  {
   "cell_type": "markdown",
   "metadata": {},
   "source": [
    "## Understanding the Data"
   ]
  },
  {
   "cell_type": "code",
   "execution_count": 81,
   "metadata": {},
   "outputs": [
    {
     "data": {
      "text/plain": [
       "\"83 % of the total population adheres to christianity , making it the most common religion in swaziland . anglican , protestant and indigenous african churches , including african zionist , constitute the majority of the christians ( 40 % ) , followed by roman catholicism at 20 % of the population . on 18 july 2012 , ellinah wamukoya , was elected anglican bishop of swaziland , becoming the first woman to be a bishop in africa . 15 % of the population follows traditional religions ; other non-christian religions practised in the country include islam ( 1 % ) , the bahá'í faith ( 0.5 % ) , and hinduism ( 0.2 % ) . there are 14 jewish families .\""
      ]
     },
     "execution_count": 81,
     "metadata": {},
     "output_type": "execute_result"
    }
   ],
   "source": [
    "idx = random.randint(0, len(train))\n",
    "\n",
    "train.loc[idx, 'context']"
   ]
  },
  {
   "cell_type": "code",
   "execution_count": 82,
   "metadata": {},
   "outputs": [
    {
     "data": {
      "text/plain": [
       "'what percentage of the swazi population are christian ?'"
      ]
     },
     "execution_count": 82,
     "metadata": {},
     "output_type": "execute_result"
    }
   ],
   "source": [
    "train.loc[idx, 'qn']"
   ]
  },
  {
   "cell_type": "markdown",
   "metadata": {},
   "source": [
    "### First Answer"
   ]
  },
  {
   "cell_type": "code",
   "execution_count": 89,
   "metadata": {},
   "outputs": [
    {
     "data": {
      "text/plain": [
       "'83 %'"
      ]
     },
     "execution_count": 89,
     "metadata": {},
     "output_type": "execute_result"
    }
   ],
   "source": [
    "\" \".join(train.loc[idx, 'context'].split()[int(train.loc[idx, 'ans'].split()[0]):int(train.loc[idx, 'ans'].split()[1]) + 1])"
   ]
  },
  {
   "cell_type": "markdown",
   "metadata": {},
   "source": [
    "## Context Histogram"
   ]
  },
  {
   "cell_type": "code",
   "execution_count": 118,
   "metadata": {},
   "outputs": [
    {
     "data": {
      "text/plain": [
       "<matplotlib.axes._subplots.AxesSubplot at 0x7f9a8522b128>"
      ]
     },
     "execution_count": 118,
     "metadata": {},
     "output_type": "execute_result"
    },
    {
     "data": {
      "image/png": "[encoded data removed]",
      "text/plain": [
       "<matplotlib.figure.Figure at 0x7f9a8b8c6358>"
      ]
     },
     "metadata": {},
     "output_type": "display_data"
    }
   ],
   "source": [
    "def get_len(string):\n",
    "    return len(string.split())\n",
    "\n",
    "sns.distplot(data['context'].apply(get_len), kde=False)"
   ]
  },
  {
   "cell_type": "markdown",
   "metadata": {},
   "source": [
    "## Question Histogram"
   ]
  },
  {
   "cell_type": "code",
   "execution_count": 116,
   "metadata": {},
   "outputs": [
    {
     "data": {
      "text/plain": [
       "<matplotlib.axes._subplots.AxesSubplot at 0x7f9a85781710>"
      ]
     },
     "execution_count": 116,
     "metadata": {},
     "output_type": "execute_result"
    },
    {
     "data": {
      "image/png": "[encoded data removed]",
      "text/plain": [
       "<matplotlib.figure.Figure at 0x7f9a8b8c0128>"
      ]
     },
     "metadata": {},
     "output_type": "display_data"
    }
   ],
   "source": [
    "sns.distplot(data['qn'].apply(get_len), kde=False)"
   ]
  },
  {
   "cell_type": "markdown",
   "metadata": {},
   "source": [
    "## Answer Histogram"
   ]
  },
  {
   "cell_type": "code",
   "execution_count": 121,
   "metadata": {},
   "outputs": [
    {
     "data": {
      "text/plain": [
       "<matplotlib.axes._subplots.AxesSubplot at 0x7f9a84f7a470>"
      ]
     },
     "execution_count": 121,
     "metadata": {},
     "output_type": "execute_result"
    },
    {
     "data": {
      "image/png": "[encoded data removed]",
      "text/plain": [
       "<matplotlib.figure.Figure at 0x7f9a84c406d8>"
      ]
     },
     "metadata": {},
     "output_type": "display_data"
    }
   ],
   "source": [
    "def get_ans_len(string):\n",
    "    return int(string.split()[1]) + 1 - int(string.split()[0])\n",
    "\n",
    "sns.distplot(data['ans'].apply(get_ans_len), kde=False)"
   ]
  },
  {
   "cell_type": "markdown",
   "metadata": {},
   "source": [
    "Critically, we should be more interested in **WHERE** the answer occured in the context"
   ]
  },
  {
   "cell_type": "code",
   "execution_count": 122,
   "metadata": {},
   "outputs": [
    {
     "data": {
      "text/plain": [
       "<matplotlib.axes._subplots.AxesSubplot at 0x7f9a84f7a0f0>"
      ]
     },
     "execution_count": 122,
     "metadata": {},
     "output_type": "execute_result"
    },
    {
     "data": {
      "image/png": "[encoded data removed]",
      "text/plain": [
       "<matplotlib.figure.Figure at 0x7f9a84e0ceb8>"
      ]
     },
     "metadata": {},
     "output_type": "display_data"
    }
   ],
   "source": [
    "def get_ans_ind(string):\n",
    "    return int(string.split()[1])\n",
    "\n",
    "sns.distplot(data['ans'].apply(get_ans_ind), kde=False)"
   ]
  }
 ],
 "metadata": {
  "kernelspec": {
   "display_name": "Python 3",
   "language": "python",
   "name": "python3"
  },
  "language_info": {
   "codemirror_mode": {
    "name": "ipython",
    "version": 3
   },
   "file_extension": ".py",
   "mimetype": "text/x-python",
   "name": "python",
   "nbconvert_exporter": "python",
   "pygments_lexer": "ipython3",
   "version": "3.6.3"
  }
 },
 "nbformat": 4,
 "nbformat_minor": 2
}
